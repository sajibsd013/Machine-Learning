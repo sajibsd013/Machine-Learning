{
 "cells": [
  {
   "cell_type": "code",
   "execution_count": 8,
   "metadata": {},
   "outputs": [],
   "source": [
    "import numpy as np\n",
    "import matplotlib.pyplot as plt\n",
    "from sklearn import linear_model, datasets\n",
    "from sklearn.metrics import mean_squared_error"
   ]
  },
  {
   "cell_type": "code",
   "execution_count": 2,
   "metadata": {},
   "outputs": [
    {
     "data": {
      "text/plain": [
       "dict_keys(['data', 'target', 'frame', 'target_names', 'DESCR', 'feature_names', 'filename', 'data_module'])"
      ]
     },
     "execution_count": 2,
     "metadata": {},
     "output_type": "execute_result"
    }
   ],
   "source": [
    "breast_cancer = datasets.load_breast_cancer()\n",
    "breast_cancer.keys()"
   ]
  },
  {
   "cell_type": "code",
   "execution_count": 3,
   "metadata": {},
   "outputs": [],
   "source": [
    "breast_cancer_x = breast_cancer.data\n",
    "breast_cancer_x_train = breast_cancer_x[:-30]\n",
    "breast_cancer_x_test = breast_cancer_x[-30:]\n",
    "breast_cancer_y_train = breast_cancer.target[:-30]\n",
    "breast_cancer_y_test =  breast_cancer.target[-30:]"
   ]
  },
  {
   "cell_type": "code",
   "execution_count": 11,
   "metadata": {},
   "outputs": [
    {
     "name": "stdout",
     "output_type": "stream",
     "text": [
      "breast_cancer_x_test:  [1 1 1 1 1 1 1 1 1 1 1 1 1 1 1 1 1 1 1 1 1 1 1 0 0 0 0 0 0 1]\n",
      "breast_cancer_predicted:  [ 1.20994936  1.13967029  0.45628162  0.59219015  0.76379477  0.94339527\n",
      "  0.75920806  1.15056902  1.03315711  1.04529192  0.78937363  1.1223725\n",
      "  1.0048226   0.68181817  1.11882805  0.72603036  0.86556929  1.21174307\n",
      "  1.03544649  0.91883009  0.81593839  0.66432755  1.10579749 -0.31630805\n",
      " -0.20525058 -0.32035306  0.01387263  0.40146954 -0.65210509  1.20672456]\n",
      "mean_sqr_error:  0.067358535325743\n"
     ]
    }
   ],
   "source": [
    "model = linear_model.LinearRegression()\n",
    "model.fit(breast_cancer_x_train,breast_cancer_y_train)\n",
    "breast_cancer_y_predicted = model.predict(breast_cancer_x_test)\n",
    "print(\"breast_cancer_x_test: \", breast_cancer_y_test)\n",
    "print(\"breast_cancer_predicted: \", breast_cancer_y_predicted)\n",
    "mean_sqr_error = mean_squared_error(breast_cancer_y_test,breast_cancer_y_predicted)\n",
    "print(\"mean_sqr_error: \", mean_sqr_error)"
   ]
  },
  {
   "cell_type": "code",
   "execution_count": 12,
   "metadata": {},
   "outputs": [
    {
     "name": "stdout",
     "output_type": "stream",
     "text": [
      "Weights:  [ 2.26582106e-01 -6.69136393e-03 -2.44566944e-02 -3.60833964e-04\n",
      " -9.56432298e-01  4.74665726e+00 -1.85367334e+00 -1.62060925e+00\n",
      " -1.59221736e-01 -7.52604646e-01 -4.24374018e-01  1.50158732e-02\n",
      "  3.03687898e-02  5.87117501e-04 -1.58149570e+01  6.84609636e-01\n",
      "  4.26377472e+00 -1.37541629e+01 -1.77576118e+00  3.01777241e+00\n",
      " -1.91089122e-01 -7.74274469e-03 -1.63774056e-04  1.11430270e-03\n",
      " -1.80147113e-01 -2.03804749e-01 -3.97836101e-01 -2.04987102e-01\n",
      " -5.24224653e-01 -3.94610046e+00]\n",
      "Intercept:  3.1760917762174286\n"
     ]
    }
   ],
   "source": [
    "print(\"Weights: \",model.coef_ )\n",
    "print(\"Intercept: \",model.intercept_ )   "
   ]
  }
 ],
 "metadata": {
  "kernelspec": {
   "display_name": "Python 3",
   "language": "python",
   "name": "python3"
  },
  "language_info": {
   "codemirror_mode": {
    "name": "ipython",
    "version": 3
   },
   "file_extension": ".py",
   "mimetype": "text/x-python",
   "name": "python",
   "nbconvert_exporter": "python",
   "pygments_lexer": "ipython3",
   "version": "3.10.5"
  },
  "orig_nbformat": 4,
  "vscode": {
   "interpreter": {
    "hash": "26de051ba29f2982a8de78e945f0abaf191376122a1563185a90213a26c5da77"
   }
  }
 },
 "nbformat": 4,
 "nbformat_minor": 2
}
